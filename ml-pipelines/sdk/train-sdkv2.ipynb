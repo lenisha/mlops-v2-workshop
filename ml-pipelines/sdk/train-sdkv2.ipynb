{
  "cells": [
    {
      "cell_type": "markdown",
      "source": [
        "For this workshop, you need:\n",
        "\n",
        "* An Azure Machine Learning workspace. \n",
        "* The Azure Machine Learning Python SDK v2 installed. \n",
        "\n",
        "To install the SDK you can either,\n",
        "\n",
        "Create a compute instance, which already has installed the latest AzureML Python SDK and is pre-configured for ML workflows.\n",
        "\n",
        "Use the followings commands to install Azure ML Python SDK v2:\n",
        "\n",
        "```bash\n",
        "conda activate <virtual_env_name>\n",
        "pip install azure-ai-ml==1.0.0\n",
        "```\n",
        "\n",
        "If you're using a virtual env, make sure to install the sdk inside the virtual env.\n",
        "\n",
        "The virtual environment for sdkv2 on Azure Notebooks is called `azureml_py310_sdkv2`.\n"
      ],
      "metadata": {}
    },
    {
      "cell_type": "markdown",
      "source": [
        "## Connect to ML Client"
      ],
      "metadata": {
        "nteract": {
          "transient": {
            "deleting": false
          }
        },
        "tags": []
      }
    },
    {
      "cell_type": "markdown",
      "source": [
        "To connect to a workspace, you need to provide a subscription, resource group and workspace name. These details are used in the `MLClient` from `azure.ai.ml` to get a handle to the required Azure Machine Learning workspace.\n",
        "\n",
        "In the following example, the default Azure authentication is used along with the default workspace configuration or from any `config.json` file you might have copied into the folders structure. If no `config.json` is found, then you need to manually introduce the subscription_id, resource_group and workspace when creating `MLClient`.\n",
        "\n"
      ],
      "metadata": {}
    },
    {
      "cell_type": "code",
      "source": [
        "# import required libraries\n",
        "from azure.ai.ml import MLClient, command, Input, Output, load_component\n",
        "from azure.identity import DefaultAzureCredential\n",
        "from azure.ai.ml.entities import Data, Environment\n",
        "from azure.ai.ml.constants import AssetTypes, InputOutputModes\n",
        "from azure.ai.ml.dsl import pipeline"
      ],
      "outputs": [],
      "execution_count": 1,
      "metadata": {
        "gather": {
          "logged": 1727326017053
        }
      }
    },
    {
      "cell_type": "code",
      "source": [
        "credential = DefaultAzureCredential()\n",
        "ml_client = None\n",
        "try:\n",
        "    ml_client = MLClient.from_config(credential)\n",
        "except Exception as ex:\n",
        "    print(ex)\n",
        "    # Enter details of your AML workspace\n",
        "    subscription_id = \"<SUBSCRIPTION_ID>\"\n",
        "    resource_group = \"<RESOURCE_GROUP>\"\n",
        "    workspace = \"<AML_WORKSPACE_NAME>\"\n",
        "    ml_client = MLClient(credential, subscription_id, resource_group, workspace)"
      ],
      "outputs": [
        {
          "output_type": "stream",
          "name": "stderr",
          "text": "Found the config file in: /config.json\n"
        }
      ],
      "execution_count": 2,
      "metadata": {
        "collapsed": false,
        "gather": {
          "logged": 1727326017190
        },
        "jupyter": {
          "outputs_hidden": false,
          "source_hidden": false
        },
        "nteract": {
          "transient": {
            "deleting": false
          }
        }
      }
    },
    {
      "cell_type": "markdown",
      "source": [
        "# Model Training"
      ],
      "metadata": {
        "nteract": {
          "transient": {
            "deleting": false
          }
        },
        "tags": []
      }
    },
    {
      "cell_type": "markdown",
      "source": [
        "## (Option) 1. Create Managed Compute\n\nA compute is a designated compute resource where you run your job or host your endpoint. Azure Machine learning supports the following types of compute:\n\n- **Compute instance** - a fully configured and managed development environment in the cloud. You can use the instance as a training or inference compute for development and testing. It's similar to a virtual machine on the cloud.\n\n- **Compute cluster** - a managed-compute infrastructure that allows you to easily create a cluster of CPU or GPU compute nodes in the cloud.\n\n- **Inference cluster** - used to deploy trained machine learning models to Azure Kubernetes Service. You can create an Azure Kubernetes Service (AKS) cluster from your Azure ML workspace, or attach an existing AKS cluster.\n\n- **Attached compute** - You can attach your own compute resources to your workspace and use them for training and inference.\n\nYou can create a compute using the Studio, the cli and the sdk.\n\n<hr>\n\nWe can create a **compute instance** with cli v2 or sdk v2 using the following syntax:\n\n<center>\n<img src=\"../../imgs/create_compute_instance.png\" width = \"700px\" alt=\"Create Compute Instance cli vs sdk\">\n</center>\n\n\n<hr>\n\nWe can create a **compute cluster** with cli v2 or sdk v2 using the following syntax:\n\n<center>\n<img src=\"../../imgs/create_compute_cluster.png\" width = \"700px\" alt=\"Create Compute Instance cli vs sdk\">\n</center>\n\n\nLet's create a managed compute cluster for the training workload."
      ],
      "metadata": {
        "nteract": {
          "transient": {
            "deleting": false
          }
        }
      }
    },
    {
      "cell_type": "code",
      "source": [
        "from azure.ai.ml.entities import AmlCompute\n",
        "\n",
        "try:\n",
        "    ml_client.compute.get(name=\"cpu-cluster\")\n",
        "    print(\"Compute already exists\")\n",
        "\n",
        "except:\n",
        "    print(\"Compute not found; Proceding to create\")\n",
        "    \n",
        "    my_cluster = AmlCompute(\n",
        "    name=\"cpu-cluster\",\n",
        "    type=\"amlcompute\", \n",
        "    size=\"Standard_DS11_v2\", \n",
        "    min_instances=0, \n",
        "    max_instances=4,\n",
        "    )\n",
        "    ml_client.compute.begin_create_or_update(my_cluster)"
      ],
      "outputs": [
        {
          "output_type": "stream",
          "name": "stdout",
          "text": "Compute not found; Proceding to create\n"
        }
      ],
      "execution_count": 3,
      "metadata": {
        "gather": {
          "logged": 1727326018437
        }
      }
    },
    {
      "cell_type": "markdown",
      "source": [
        "## 2. Register Data Asset\n\n**Datastore** - Azure Machine Learning Datastores securely keep the connection information to your data storage on Azure, so you don't have to code it in your scripts.\n\nAn Azure Machine Learning datastore is a **reference** to an **existing** storage account on Azure. The benefits of creating and using a datastore are:\n* A common and easy-to-use API to interact with different storage type. \n* Easier to discover useful datastores when working as a team.\n* When using credential-based access (service principal/SAS/key), the connection information is secured so you don't have to code it in your scripts.\n\nSupported Data Resources: \n\n* Azure Storage blob container\n* Azure Storage file share\n* Azure Data Lake Gen 1\n* Azure Data Lake Gen 2\n* Azure SQL Database \n* Azure PostgreSQL Database\n* Azure MySQL Database\n\nIt is not a requirement to use Azure Machine Learning datastores - you can use storage URIs directly assuming you have access to the underlying data.\n\nYou can create a datastore using the Studio, the cli and the sdk.\n\n<hr>\n\nWe can create a **datastore** with cli v2 or sdk v2 using the following syntax:\n\n<center>\n<img src=\"../../imgs/create_datastore.png\" width = \"700px\" alt=\"Create Datastore cli vs sdk\">\n</center>\n\n\n\n**Data asset** - Create data assets in your workspace to share with team members, version, and track data lineage.\n\nBy creating a data asset, you create a reference to the data source location, along with a copy of its metadata. \n\nThe benefits of creating data assets are:\n\n* You can **share and reuse data** with other members of the team such that they do not need to remember file locations.\n* You can **seamlessly access data** during model training (on any supported compute type) without worrying about connection strings or data paths.\n* You can **version** the data.\n\n<hr>\n\nWe can create a **data asset** with cli v2 or sdk v2 using the following syntax:\n\n<center>\n<img src=\"../../imgs/create_data_asset.png\" width = \"700px\" alt=\"Create Data Asset cli vs sdk\">\n</center>"
      ],
      "metadata": {
        "nteract": {
          "transient": {
            "deleting": false
          }
        }
      }
    },
    {
      "cell_type": "code",
      "source": [
        "my_data = Data(\n",
        "    path=\"../../data/taxi-data.csv\",\n",
        "    type=AssetTypes.URI_FILE,\n",
        "    description=\"Taxi dataset\",\n",
        "    name=\"taxi-data\"\n",
        ")\n",
        "ml_client.data.create_or_update(my_data)"
      ],
      "outputs": [
        {
          "output_type": "stream",
          "name": "stderr",
          "text": "\u001b[32mUploading taxi-data.csv\u001b[32m (< 1 MB): 100%|██████████| 1.21M/1.21M [00:00<00:00, 18.5MB/s]\n\u001b[39m\n\n"
        },
        {
          "output_type": "execute_result",
          "execution_count": 4,
          "data": {
            "text/plain": "Data({'path': 'azureml://subscriptions/e86f0482-6203-4a73-adbe-7c9c39754c57/resourcegroups/lenisha-rg/workspaces/amlpipeline/datastores/workspaceblobstore/paths/LocalUpload/9292ec840b5d1db6306dba71da69ab7f/taxi-data.csv', 'skip_validation': False, 'mltable_schema_url': None, 'referenced_uris': None, 'type': 'uri_file', 'is_anonymous': False, 'auto_increment_version': False, 'auto_delete_setting': None, 'name': 'taxi-data', 'description': 'Taxi dataset', 'tags': {}, 'properties': {}, 'print_as_yaml': False, 'id': '/subscriptions/e86f0482-6203-4a73-adbe-7c9c39754c57/resourceGroups/lenisha-rg/providers/Microsoft.MachineLearningServices/workspaces/amlpipeline/data/taxi-data/versions/1', 'Resource__source_path': '', 'base_path': '/mnt/batch/tasks/shared/LS_root/mounts/clusters/lenisha1/code/Users/lenisha/mlops-v2-workshop/ml-pipelines/sdk', 'creation_context': <azure.ai.ml.entities._system_data.SystemData object at 0x7f06184cf490>, 'serialize': <msrest.serialization.Serializer object at 0x7f06184cf760>, 'version': '1', 'latest_version': None, 'datastore': None})"
          },
          "metadata": {}
        }
      ],
      "execution_count": 4,
      "metadata": {
        "collapsed": false,
        "gather": {
          "logged": 1727326021554
        },
        "jupyter": {
          "outputs_hidden": false,
          "source_hidden": false
        },
        "nteract": {
          "transient": {
            "deleting": false
          }
        }
      }
    },
    {
      "cell_type": "markdown",
      "source": [
        "## 3. Register Train Environment\n",
        "\n",
        "Azure Machine Learning environments define the execution environments for your **jobs** or **deployments** and encapsulate the dependencies for your code. \n",
        "\n",
        "Azure ML uses the environment specification to create the Docker container that your **training** or **scoring code** runs in on the specified compute target.\n",
        "\n",
        "Create an environment from a\n",
        "* conda specification\n",
        "* Docker image\n",
        "* Docker build context\n",
        "\n",
        "There are two types of environments in Azure ML: **curated** and **custom environments**. Curated environments are predefined environments containing popular ML frameworks and tooling. Custom environments are user-defined.\n",
        "\n",
        "<hr>\n",
        "\n",
        "We can register an **environment** with cli v2 or sdk v2 using the following syntax:\n",
        "\n",
        "<center>\n",
        "<img src=\"../../imgs/create_environment.png\" width = \"700px\" alt=\"Create Environment cli vs sdk\">\n",
        "</center>"
      ],
      "metadata": {}
    },
    {
      "cell_type": "code",
      "source": [
        "my_environment = Environment(\n",
        "    image=\"mcr.microsoft.com/azureml/openmpi3.1.2-ubuntu18.04\",\n",
        "    conda_file=\"../../environment/train-conda.yml\",\n",
        "    name=\"taxi-train-env\",\n",
        "    description=\"Environment created from a Docker image plus Conda environment to train taxi model.\",\n",
        ")\n",
        "\n",
        "ml_client.environments.create_or_update(my_environment)"
      ],
      "outputs": [
        {
          "output_type": "execute_result",
          "execution_count": 13,
          "data": {
            "text/plain": "Environment({'arm_type': 'environment_version', 'latest_version': None, 'image': 'mcr.microsoft.com/azureml/openmpi3.1.2-ubuntu18.04', 'intellectual_property': None, 'is_anonymous': False, 'auto_increment_version': False, 'auto_delete_setting': None, 'name': 'taxi-train-env', 'description': 'Environment created from a Docker image plus Conda environment to train taxi model.', 'tags': {}, 'properties': {'azureml.labels': 'latest'}, 'print_as_yaml': False, 'id': '/subscriptions/e86f0482-6203-4a73-adbe-7c9c39754c57/resourceGroups/lenisha-rg/providers/Microsoft.MachineLearningServices/workspaces/amlpipeline/environments/taxi-train-env/versions/3', 'Resource__source_path': '', 'base_path': '/mnt/batch/tasks/shared/LS_root/mounts/clusters/lenisha1/code/Users/lenisha/mlops-v2-workshop/ml-pipelines/sdk', 'creation_context': <azure.ai.ml.entities._system_data.SystemData object at 0x7f05febacc10>, 'serialize': <msrest.serialization.Serializer object at 0x7f05febaca00>, 'version': '3', 'conda_file': {'channels': ['defaults', 'anaconda', 'conda-forge'], 'dependencies': ['python=3.8', 'pip', {'pip': ['azureml-mlflow', 'azureml-sdk', 'azure-ai-ml', 'pyarrow==10.0.0', 'ruamel.yaml==0.17.21', 'scikit-learn==0.24.1', 'pandas==1.2.1', 'joblib==1.0.0', 'matplotlib==3.3.3']}]}, 'build': None, 'inference_config': None, 'os_type': 'Linux', 'conda_file_path': None, 'path': None, 'datastore': None, 'upload_hash': None, 'translated_conda_file': '{\\n  \"channels\": [\\n    \"defaults\",\\n    \"anaconda\",\\n    \"conda-forge\"\\n  ],\\n  \"dependencies\": [\\n    \"python=3.8\",\\n    \"pip\",\\n    {\\n      \"pip\": [\\n        \"azureml-mlflow\",\\n        \"azureml-sdk\",\\n        \"azure-ai-ml\",\\n        \"pyarrow==10.0.0\",\\n        \"ruamel.yaml==0.17.21\",\\n        \"scikit-learn==0.24.1\",\\n        \"pandas==1.2.1\",\\n        \"joblib==1.0.0\",\\n        \"matplotlib==3.3.3\"\\n      ]\\n    }\\n  ]\\n}'})"
          },
          "metadata": {}
        }
      ],
      "execution_count": 13,
      "metadata": {
        "collapsed": false,
        "gather": {
          "logged": 1727327446315
        },
        "jupyter": {
          "outputs_hidden": false,
          "source_hidden": false
        },
        "nteract": {
          "transient": {
            "deleting": false
          }
        }
      }
    },
    {
      "cell_type": "markdown",
      "source": [
        "## 4. Create Pipeline Job\n\n**AML Job**:\n\nAzure ML provides several ways to train your models, from code-first solutions to low-code solutions:\n\n* Azure ML supports script files in python, R, Java, Julia or C#. All you need to learn is YAML format and command lines to use Azure ML.\n\n* Distributed Training: AML supports integrations with popular frameworks, PyTorch and TensorFlow. Both frameworks employ data parallelism & model parallelism for distributed training.\n\n* Automated ML - Train models without extensive data science or programming knowledge.\n\n* Designer - drag and drop web-based UI.\n\n<hr>\n\nWe can submit a **job** with cli v2 or sdk v2 using the following syntax:\n\n<center>\n<img src=\"../../imgs/create_job.png\" width = \"700px\" alt=\"Create Job cli vs sdk\">\n</center>\n\n<br>\n    \n**AML Pipelines**:\n\nAn AML pipeline is an independently executable workflow of a complete machine learning task. It helps standardizing the best practices of producing a machine learning model: The core of a machine learning pipeline is to split a complete machine learning task into a multistep workflow. Each step is a manageable component that can be developed, optimized, configured, and automated individually. \n\n<hr>\n\nWe can submit a **pipeline job** with cli v2 or sdk v2 using the following syntax:\n\n<center>\n<img src=\"../../imgs/create_pipeline.png\" width = \"700px\" alt=\"Create Pipeline cli vs sdk\">\n</center>"
      ],
      "metadata": {
        "nteract": {
          "transient": {
            "deleting": false
          }
        }
      }
    },
    {
      "cell_type": "code",
      "source": [
        "# Create pipeline job\n",
        "parent_dir = \"../../components\"\n",
        "\n",
        "# 1. Load components\n",
        "prepare_data = load_component(source=parent_dir + \"/prep.yml\")\n",
        "train_model = load_component(source=parent_dir + \"/train.yml\")\n",
        "evaluate_model = load_component(source=parent_dir + \"/evaluate.yml\")\n",
        "register_model = load_component(source=parent_dir + \"/register.yml\")\n",
        "\n",
        "# 2. Construct pipeline\n",
        "@pipeline()\n",
        "def taxi_training_pipeline(raw_data, enable_monitoring, table_name):\n",
        "    \n",
        "    prepare = prepare_data(\n",
        "        raw_data=raw_data,\n",
        "        enable_monitoring=enable_monitoring, \n",
        "        table_name=table_name\n",
        "    )\n",
        "\n",
        "    train = train_model(\n",
        "        train_data=prepare.outputs.train_data\n",
        "    )\n",
        "\n",
        "    evaluate = evaluate_model(\n",
        "        model_name=\"taxi-model\",\n",
        "        model_input=train.outputs.model_output,\n",
        "        test_data=prepare.outputs.test_data\n",
        "    )\n",
        "\n",
        "\n",
        "    register = register_model(\n",
        "        model_name=\"taxi-model\",\n",
        "        model_path=train.outputs.model_output,\n",
        "        evaluation_output=evaluate.outputs.evaluation_output\n",
        "    )\n",
        "\n",
        "    return {\n",
        "        \"pipeline_job_train_data\": prepare.outputs.train_data,\n",
        "        \"pipeline_job_test_data\": prepare.outputs.test_data,\n",
        "        \"pipeline_job_trained_model\": train.outputs.model_output,\n",
        "        \"pipeline_job_score_report\": evaluate.outputs.evaluation_output,\n",
        "    }\n",
        "\n",
        "\n",
        "pipeline_job = taxi_training_pipeline(\n",
        "    Input(type=AssetTypes.URI_FILE, path=\"taxi-data@latest\"), \"false\", \"taximonitoring\"\n",
        ")\n",
        "\n",
        "# set pipeline level compute\n",
        "pipeline_job.settings.default_compute = \"cpu-cluster\"\n",
        "# set pipeline level datastore\n",
        "pipeline_job.settings.default_datastore = \"workspaceblobstore\""
      ],
      "outputs": [],
      "execution_count": 14,
      "metadata": {
        "collapsed": false,
        "gather": {
          "logged": 1727327473659
        },
        "jupyter": {
          "outputs_hidden": false,
          "source_hidden": false
        },
        "nteract": {
          "transient": {
            "deleting": false
          }
        }
      }
    },
    {
      "cell_type": "code",
      "source": [
        "ml_client.components.create_or_update(register_model)\n"
      ],
      "outputs": [
        {
          "output_type": "execute_result",
          "execution_count": 15,
          "data": {
            "text/plain": "CommandComponent({'latest_version': None, 'intellectual_property': None, 'auto_increment_version': False, 'source': 'REMOTE.WORKSPACE.COMPONENT', 'is_anonymous': False, 'auto_delete_setting': None, 'name': 'register_model', 'description': None, 'tags': {}, 'properties': {}, 'print_as_yaml': False, 'id': '/subscriptions/e86f0482-6203-4a73-adbe-7c9c39754c57/resourceGroups/lenisha-rg/providers/Microsoft.MachineLearningServices/workspaces/amlpipeline/components/register_model/versions/2024-09-26-05-11-23-8530781', 'Resource__source_path': None, 'base_path': '/mnt/batch/tasks/shared/LS_root/mounts/clusters/lenisha1/code/Users/lenisha/mlops-v2-workshop/ml-pipelines/sdk', 'creation_context': <azure.ai.ml._restclient.v2024_01_01_preview.models._models_py3.SystemData object at 0x7f05fe75ea10>, 'serialize': <msrest.serialization.Serializer object at 0x7f05fe75c550>, 'command': 'python register.py  --model_name ${{inputs.model_name}}  --model_path ${{inputs.model_path}}  --evaluation_output ${{inputs.evaluation_output}} --model_info_output_path ${{outputs.model_info_output_path}}', 'code': '/subscriptions/e86f0482-6203-4a73-adbe-7c9c39754c57/resourceGroups/lenisha-rg/providers/Microsoft.MachineLearningServices/workspaces/amlpipeline/codes/9d0dfb6a-0471-48fd-891f-07b7e28dd682/versions/1', 'environment_variables': None, 'environment': '/subscriptions/e86f0482-6203-4a73-adbe-7c9c39754c57/resourceGroups/lenisha-rg/providers/Microsoft.MachineLearningServices/workspaces/amlpipeline/environments/taxi-train-env/versions/3', 'distribution': None, 'resources': {'instance_count': 1}, 'queue_settings': None, 'version': '2024-09-26-05-11-23-8530781', 'schema': 'https://azuremlschemas.azureedge.net/latest/commandComponent.schema.json', 'type': 'command', 'display_name': 'register-model', 'is_deterministic': True, 'inputs': {'model_path': {'type': 'uri_folder', 'optional': False}, 'evaluation_output': {'type': 'uri_folder', 'optional': False}, 'model_name': {'type': 'string', 'optional': False}}, 'outputs': {'model_info_output_path': {'type': 'uri_folder'}}, 'yaml_str': None, 'other_parameter': {}, 'additional_includes': []})"
          },
          "metadata": {}
        }
      ],
      "execution_count": 15,
      "metadata": {
        "jupyter": {
          "source_hidden": false,
          "outputs_hidden": false
        },
        "nteract": {
          "transient": {
            "deleting": false
          }
        },
        "gather": {
          "logged": 1727327485490
        }
      }
    },
    {
      "cell_type": "code",
      "source": [
        "pipeline_job = ml_client.jobs.create_or_update(\n",
        "    pipeline_job, experiment_name=\"pipeline_samples-sdk\"\n",
        ")\n",
        "pipeline_job"
      ],
      "outputs": [
        {
          "output_type": "stream",
          "name": "stderr",
          "text": "pathOnCompute is not a known attribute of class <class 'azure.ai.ml._restclient.v2023_04_01_preview.models._models_py3.UriFolderJobOutput'> and will be ignored\npathOnCompute is not a known attribute of class <class 'azure.ai.ml._restclient.v2023_04_01_preview.models._models_py3.UriFolderJobOutput'> and will be ignored\npathOnCompute is not a known attribute of class <class 'azure.ai.ml._restclient.v2023_04_01_preview.models._models_py3.UriFolderJobOutput'> and will be ignored\npathOnCompute is not a known attribute of class <class 'azure.ai.ml._restclient.v2023_04_01_preview.models._models_py3.UriFolderJobOutput'> and will be ignored\n"
        },
        {
          "output_type": "execute_result",
          "execution_count": 16,
          "data": {
            "text/plain": "PipelineJob({'inputs': {'raw_data': <azure.ai.ml.entities._job.pipeline._io.base.PipelineInput object at 0x7f05fecde320>, 'enable_monitoring': <azure.ai.ml.entities._job.pipeline._io.base.PipelineInput object at 0x7f05fecde200>, 'table_name': <azure.ai.ml.entities._job.pipeline._io.base.PipelineInput object at 0x7f05fecdf850>}, 'outputs': {'pipeline_job_train_data': <azure.ai.ml.entities._job.pipeline._io.base.PipelineOutput object at 0x7f05fecdc5e0>, 'pipeline_job_test_data': <azure.ai.ml.entities._job.pipeline._io.base.PipelineOutput object at 0x7f05fecdfb20>, 'pipeline_job_trained_model': <azure.ai.ml.entities._job.pipeline._io.base.PipelineOutput object at 0x7f05fecdfe80>, 'pipeline_job_score_report': <azure.ai.ml.entities._job.pipeline._io.base.PipelineOutput object at 0x7f05fecde4d0>}, 'jobs': {}, 'component': PipelineComponent({'latest_version': None, 'intellectual_property': None, 'auto_increment_version': False, 'source': 'REMOTE.WORKSPACE.JOB', 'is_anonymous': True, 'auto_delete_setting': None, 'name': 'azureml_anonymous', 'description': None, 'tags': {}, 'properties': {}, 'print_as_yaml': False, 'id': None, 'Resource__source_path': None, 'base_path': '/mnt/batch/tasks/shared/LS_root/mounts/clusters/lenisha1/code/Users/lenisha/mlops-v2-workshop/ml-pipelines/sdk', 'creation_context': None, 'serialize': <msrest.serialization.Serializer object at 0x7f05fe7934f0>, 'version': '1', 'schema': None, 'type': 'pipeline', 'display_name': 'taxi_training_pipeline', 'is_deterministic': None, 'inputs': {'raw_data': {}, 'enable_monitoring': {}, 'table_name': {}}, 'outputs': {'pipeline_job_train_data': {}, 'pipeline_job_test_data': {}, 'pipeline_job_trained_model': {}, 'pipeline_job_score_report': {}}, 'yaml_str': None, 'other_parameter': {}, 'jobs': {'prepare': Command({'parameters': {}, 'init': False, 'name': 'prepare', 'type': 'command', 'status': None, 'log_files': None, 'description': None, 'tags': {}, 'properties': {}, 'print_as_yaml': False, 'id': None, 'Resource__source_path': '', 'base_path': '/mnt/batch/tasks/shared/LS_root/mounts/clusters/lenisha1/code/Users/lenisha/mlops-v2-workshop/ml-pipelines/sdk', 'creation_context': None, 'serialize': <msrest.serialization.Serializer object at 0x7f05fe792530>, 'allowed_keys': {}, 'key_restriction': False, 'logger': <TraceLogger attr_dict (WARNING)>, 'display_name': None, 'experiment_name': None, 'compute': None, 'services': None, 'comment': None, 'job_inputs': {'raw_data': '${{parent.inputs.raw_data}}', 'enable_monitoring': '${{parent.inputs.enable_monitoring}}', 'table_name': '${{parent.inputs.table_name}}'}, 'job_outputs': {'train_data': '${{parent.outputs.pipeline_job_train_data}}', 'test_data': '${{parent.outputs.pipeline_job_test_data}}'}, 'inputs': {'raw_data': <azure.ai.ml.entities._job.pipeline._io.base.NodeInput object at 0x7f05fe7929b0>, 'enable_monitoring': <azure.ai.ml.entities._job.pipeline._io.base.NodeInput object at 0x7f05fe793550>, 'table_name': <azure.ai.ml.entities._job.pipeline._io.base.NodeInput object at 0x7f05fe793ac0>}, 'outputs': {'train_data': <azure.ai.ml.entities._job.pipeline._io.base.NodeOutput object at 0x7f05fe793580>, 'test_data': <azure.ai.ml.entities._job.pipeline._io.base.NodeOutput object at 0x7f05fe793040>}, 'component': 'azureml_anonymous:a0a58fd6-0f36-4461-ad77-7c4d1f533305', 'referenced_control_flow_node_instance_id': None, 'kwargs': {'services': None}, 'instance_id': '26c523c9-be00-4455-b1a7-eeb73d6ca66e', 'source': 'YAML.COMPONENT', 'validate_required_input_not_provided': True, 'limits': None, 'identity': None, 'distribution': None, 'environment_variables': {}, 'environment': None, 'resources': None, 'queue_settings': None, 'swept': False}), 'train': Command({'parameters': {}, 'init': False, 'name': 'train', 'type': 'command', 'status': None, 'log_files': None, 'description': None, 'tags': {}, 'properties': {}, 'print_as_yaml': False, 'id': None, 'Resource__source_path': '', 'base_path': '/mnt/batch/tasks/shared/LS_root/mounts/clusters/lenisha1/code/Users/lenisha/mlops-v2-workshop/ml-pipelines/sdk', 'creation_context': None, 'serialize': <msrest.serialization.Serializer object at 0x7f05fe7932b0>, 'allowed_keys': {}, 'key_restriction': False, 'logger': <TraceLogger attr_dict (WARNING)>, 'display_name': None, 'experiment_name': None, 'compute': None, 'services': None, 'comment': None, 'job_inputs': {'train_data': '${{parent.jobs.prepare.outputs.train_data}}'}, 'job_outputs': {'model_output': '${{parent.outputs.pipeline_job_trained_model}}'}, 'inputs': {'train_data': <azure.ai.ml.entities._job.pipeline._io.base.NodeInput object at 0x7f05fe793ca0>}, 'outputs': {'model_output': <azure.ai.ml.entities._job.pipeline._io.base.NodeOutput object at 0x7f05fe793280>}, 'component': 'azureml_anonymous:a9fc92cc-15d1-43f9-a145-115e10eb4a1a', 'referenced_control_flow_node_instance_id': None, 'kwargs': {'services': None}, 'instance_id': '63493b1e-00a3-4b8c-891a-dc2370660eb3', 'source': 'YAML.COMPONENT', 'validate_required_input_not_provided': True, 'limits': None, 'identity': None, 'distribution': None, 'environment_variables': {}, 'environment': None, 'resources': None, 'queue_settings': None, 'swept': False}), 'evaluate': Command({'parameters': {}, 'init': False, 'name': 'evaluate', 'type': 'command', 'status': None, 'log_files': None, 'description': None, 'tags': {}, 'properties': {}, 'print_as_yaml': False, 'id': None, 'Resource__source_path': '', 'base_path': '/mnt/batch/tasks/shared/LS_root/mounts/clusters/lenisha1/code/Users/lenisha/mlops-v2-workshop/ml-pipelines/sdk', 'creation_context': None, 'serialize': <msrest.serialization.Serializer object at 0x7f05fe792f50>, 'allowed_keys': {}, 'key_restriction': False, 'logger': <TraceLogger attr_dict (WARNING)>, 'display_name': None, 'experiment_name': None, 'compute': None, 'services': None, 'comment': None, 'job_inputs': {'model_name': 'taxi-model', 'model_input': '${{parent.jobs.train.outputs.model_output}}', 'test_data': '${{parent.jobs.prepare.outputs.test_data}}'}, 'job_outputs': {'evaluation_output': '${{parent.outputs.pipeline_job_score_report}}'}, 'inputs': {'model_name': <azure.ai.ml.entities._job.pipeline._io.base.NodeInput object at 0x7f05fe7938e0>, 'model_input': <azure.ai.ml.entities._job.pipeline._io.base.NodeInput object at 0x7f05fe791e40>, 'test_data': <azure.ai.ml.entities._job.pipeline._io.base.NodeInput object at 0x7f05fe793910>}, 'outputs': {'evaluation_output': <azure.ai.ml.entities._job.pipeline._io.base.NodeOutput object at 0x7f05fe792830>}, 'component': 'azureml_anonymous:3acd031e-64b5-4b17-b5b7-badcfc7d086f', 'referenced_control_flow_node_instance_id': None, 'kwargs': {'services': None}, 'instance_id': 'eff08ef3-fe96-42d9-a3ab-aa2310cdaeee', 'source': 'YAML.COMPONENT', 'validate_required_input_not_provided': True, 'limits': None, 'identity': None, 'distribution': None, 'environment_variables': {}, 'environment': None, 'resources': None, 'queue_settings': None, 'swept': False}), 'register': Command({'parameters': {}, 'init': False, 'name': 'register', 'type': 'command', 'status': None, 'log_files': None, 'description': None, 'tags': {}, 'properties': {}, 'print_as_yaml': False, 'id': None, 'Resource__source_path': '', 'base_path': '/mnt/batch/tasks/shared/LS_root/mounts/clusters/lenisha1/code/Users/lenisha/mlops-v2-workshop/ml-pipelines/sdk', 'creation_context': None, 'serialize': <msrest.serialization.Serializer object at 0x7f05fe793340>, 'allowed_keys': {}, 'key_restriction': False, 'logger': <TraceLogger attr_dict (WARNING)>, 'display_name': None, 'experiment_name': None, 'compute': None, 'services': None, 'comment': None, 'job_inputs': {'model_name': 'taxi-model', 'model_path': '${{parent.jobs.train.outputs.model_output}}', 'evaluation_output': '${{parent.jobs.evaluate.outputs.evaluation_output}}'}, 'job_outputs': {}, 'inputs': {'model_name': <azure.ai.ml.entities._job.pipeline._io.base.NodeInput object at 0x7f05fe792ef0>, 'model_path': <azure.ai.ml.entities._job.pipeline._io.base.NodeInput object at 0x7f05fe7933a0>, 'evaluation_output': <azure.ai.ml.entities._job.pipeline._io.base.NodeInput object at 0x7f05fe793f10>}, 'outputs': {}, 'component': 'azureml_anonymous:4c2f65cf-0b5c-41a2-9f5a-3fe1536a58b1', 'referenced_control_flow_node_instance_id': None, 'kwargs': {'services': None}, 'instance_id': 'df785473-3355-4bb0-a572-d853dac47ef1', 'source': 'YAML.COMPONENT', 'validate_required_input_not_provided': True, 'limits': None, 'identity': None, 'distribution': None, 'environment_variables': {}, 'environment': None, 'resources': None, 'queue_settings': None, 'swept': False})}, 'job_types': {'command': 4}, 'job_sources': {'YAML.COMPONENT': 4}, 'source_job_id': None}), 'type': 'pipeline', 'status': 'NotStarted', 'log_files': None, 'name': 'plucky_wall_y47n4tbm71', 'description': None, 'tags': {}, 'properties': {}, 'print_as_yaml': False, 'id': '/subscriptions/e86f0482-6203-4a73-adbe-7c9c39754c57/resourceGroups/lenisha-rg/providers/Microsoft.MachineLearningServices/workspaces/amlpipeline/jobs/plucky_wall_y47n4tbm71', 'Resource__source_path': '', 'base_path': '/mnt/batch/tasks/shared/LS_root/mounts/clusters/lenisha1/code/Users/lenisha/mlops-v2-workshop/ml-pipelines/sdk', 'creation_context': <azure.ai.ml.entities._system_data.SystemData object at 0x7f05fe792110>, 'serialize': <msrest.serialization.Serializer object at 0x7f05fecde3b0>, 'display_name': 'taxi_training_pipeline', 'experiment_name': 'pipeline_samples-sdk', 'compute': None, 'services': {'Tracking': {'endpoint': 'azureml://westus.api.azureml.ms/mlflow/v1.0/subscriptions/e86f0482-6203-4a73-adbe-7c9c39754c57/resourceGroups/lenisha-rg/providers/Microsoft.MachineLearningServices/workspaces/amlpipeline?', 'type': 'Tracking'}, 'Studio': {'endpoint': 'https://ml.azure.com/runs/plucky_wall_y47n4tbm71?wsid=/subscriptions/e86f0482-6203-4a73-adbe-7c9c39754c57/resourcegroups/lenisha-rg/workspaces/amlpipeline&tid=145ac071-6d05-4875-8048-1836c743506a', 'type': 'Studio'}}, 'settings': {}, 'identity': None, 'default_code': None, 'default_environment': None})",
            "text/html": "<table style=\"width:100%\"><tr><th>Experiment</th><th>Name</th><th>Type</th><th>Status</th><th>Details Page</th></tr><tr><td>pipeline_samples-sdk</td><td>plucky_wall_y47n4tbm71</td><td>pipeline</td><td>NotStarted</td><td><a href=\"https://ml.azure.com/runs/plucky_wall_y47n4tbm71?wsid=/subscriptions/e86f0482-6203-4a73-adbe-7c9c39754c57/resourcegroups/lenisha-rg/workspaces/amlpipeline&amp;tid=145ac071-6d05-4875-8048-1836c743506a\" target=\"_blank\" rel=\"noopener\">Link to Azure Machine Learning studio</a></td></tr></table>"
          },
          "metadata": {}
        }
      ],
      "execution_count": 16,
      "metadata": {
        "collapsed": false,
        "gather": {
          "logged": 1727327494294
        },
        "jupyter": {
          "outputs_hidden": false,
          "source_hidden": false
        },
        "nteract": {
          "transient": {
            "deleting": false
          }
        }
      }
    },
    {
      "cell_type": "code",
      "source": [],
      "outputs": [],
      "execution_count": null,
      "metadata": {}
    }
  ],
  "metadata": {
    "kernel_info": {
      "name": "python310-sdkv2"
    },
    "kernelspec": {
      "name": "python310-sdkv2",
      "language": "python",
      "display_name": "Python 3.10 - SDK v2"
    },
    "language_info": {
      "name": "python",
      "version": "3.10.14",
      "mimetype": "text/x-python",
      "codemirror_mode": {
        "name": "ipython",
        "version": 3
      },
      "pygments_lexer": "ipython3",
      "nbconvert_exporter": "python",
      "file_extension": ".py"
    },
    "microsoft": {
      "host": {
        "AzureML": {
          "notebookHasBeenCompleted": true
        }
      },
      "ms_spell_check": {
        "ms_spell_check_language": "en"
      }
    },
    "nteract": {
      "version": "nteract-front-end@1.0.0"
    }
  },
  "nbformat": 4,
  "nbformat_minor": 4
}